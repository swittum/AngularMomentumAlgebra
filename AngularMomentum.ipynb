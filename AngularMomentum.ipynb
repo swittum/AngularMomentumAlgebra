{
 "cells": [
  {
   "cell_type": "markdown",
   "id": "a76e02de-9a76-491b-871a-9322dbce132e",
   "metadata": {},
   "source": [
    "# Goal: Derive Expression of SU(2) Group"
   ]
  },
  {
   "cell_type": "code",
   "execution_count": 1,
   "id": "b2ba77b9-eaa2-4aae-855a-835a52951a61",
   "metadata": {},
   "outputs": [],
   "source": [
    "import sympy as sp\n",
    "from AngularMomentum import L_x, L_y, L_z, Commutator"
   ]
  },
  {
   "cell_type": "markdown",
   "id": "4fe9f7ec-6470-4eb5-ba32-7ff8682f5132",
   "metadata": {},
   "source": [
    "## First: $L_x$"
   ]
  },
  {
   "cell_type": "code",
   "execution_count": 4,
   "id": "26193161-ae35-459d-b12a-f89bd44253bf",
   "metadata": {},
   "outputs": [
    {
     "data": {
      "text/latex": [
       "$\\displaystyle \\left[\\begin{matrix}0.5 \\cos{\\left(1.0 \\alpha \\right)} + 0.5 & - 0.707106781186547 i \\sin{\\left(1.0 \\alpha \\right)} & 0.5 \\cos{\\left(1.0 \\alpha \\right)} - 0.5\\\\- 0.707106781186548 i \\sin{\\left(1.0 \\alpha \\right)} & 1.0 \\cos{\\left(1.0 \\alpha \\right)} & - 0.707106781186548 i \\sin{\\left(1.0 \\alpha \\right)}\\\\0.5 \\cos{\\left(1.0 \\alpha \\right)} - 0.5 & - 0.707106781186547 i \\sin{\\left(1.0 \\alpha \\right)} & 0.5 \\cos{\\left(1.0 \\alpha \\right)} + 0.5\\end{matrix}\\right]$"
      ],
      "text/plain": [
       "Matrix([\n",
       "[           0.5*cos(1.0*\\alpha) + 0.5, -0.707106781186547*I*sin(1.0*\\alpha),            0.5*cos(1.0*\\alpha) - 0.5],\n",
       "[-0.707106781186548*I*sin(1.0*\\alpha),                  1.0*cos(1.0*\\alpha), -0.707106781186548*I*sin(1.0*\\alpha)],\n",
       "[           0.5*cos(1.0*\\alpha) - 0.5, -0.707106781186547*I*sin(1.0*\\alpha),            0.5*cos(1.0*\\alpha) + 0.5]])"
      ]
     },
     "execution_count": 4,
     "metadata": {},
     "output_type": "execute_result"
    }
   ],
   "source": [
    "# Lx = 1/sp.sqrt(2)*sp.Matrix([[0, 1, 0], [1, 0, 1], [0, 1, 0]])\n",
    "Lx = sp.Matrix(L_x(1).to_matrix())\n",
    "alpha = sp.symbols(r'\\alpha', real=True)\n",
    "rot_x = sp.exp(-sp.I*alpha*Lx).simplify()\n",
    "rot_x"
   ]
  },
  {
   "cell_type": "markdown",
   "id": "c77e7a6f-0028-4a8e-a046-160fd534a4b1",
   "metadata": {},
   "source": [
    "## Second: $L_y$"
   ]
  },
  {
   "cell_type": "code",
   "execution_count": 5,
   "id": "10718b25-9907-46ae-a7b2-b85afcdf79f1",
   "metadata": {},
   "outputs": [],
   "source": [
    "# Ly = 1/(sp.sqrt(2)*sp.I)*sp.Matrix([[0, 1, 0], [-1, 0, 1], [0, -1, 0]])\n",
    "Ly = sp.Matrix(L_y(1).to_matrix())\n",
    "beta = sp.symbols(r'\\beta', real=True)\n",
    "rot_y = sp.exp(-sp.I*beta*Ly).simplify()\n",
    "rot_y_t = rot_y.H"
   ]
  },
  {
   "cell_type": "markdown",
   "id": "5ff8d584-8b10-4b9e-9b3f-d75c064a2361",
   "metadata": {},
   "source": [
    "# Third: $L_z$"
   ]
  },
  {
   "cell_type": "code",
   "execution_count": 8,
   "id": "5f6038e1-a455-4aa9-88bf-a877ce89a63b",
   "metadata": {},
   "outputs": [
    {
     "data": {
      "text/latex": [
       "$\\displaystyle \\left[\\begin{matrix}1.0 e^{i \\gamma} & 0 & 0\\\\0 & 1.0 & 0\\\\0 & 0 & 1.0 e^{- i \\gamma}\\end{matrix}\\right]$"
      ],
      "text/plain": [
       "Matrix([\n",
       "[1.0*exp(I*\\gamma),   0,                  0],\n",
       "[                0, 1.0,                  0],\n",
       "[                0,   0, 1.0*exp(-I*\\gamma)]])"
      ]
     },
     "execution_count": 8,
     "metadata": {},
     "output_type": "execute_result"
    }
   ],
   "source": [
    "# Lz = sp.Matrix([[1, 0, 0], [0, 0, 0], [0, 0, -1]])\n",
    "Lz = sp.Matrix(L_z(1).to_matrix())\n",
    "gamma = sp.symbols(r'\\gamma', real=True)\n",
    "rot_z = sp.exp(-sp.I*gamma*Lz).simplify()\n",
    "rot_z_t = rot_z.H\n",
    "rot_z"
   ]
  },
  {
   "cell_type": "markdown",
   "id": "da7af959",
   "metadata": {},
   "source": [
    "## Testing Other Representation Spaces\n",
    "We can also take a look at higher and lower dimensions of the representation space. Let's e.g. try $l=1/2$, i.e. a two dimensional representation. We of course get the Pauli Matrices!"
   ]
  },
  {
   "cell_type": "code",
   "execution_count": 11,
   "id": "8841d066",
   "metadata": {},
   "outputs": [
    {
     "data": {
      "text/plain": [
       "[[0. +0.j 0.5+0.j]\n",
       " [0.5+0.j 0. +0.j]]"
      ]
     },
     "execution_count": 11,
     "metadata": {},
     "output_type": "execute_result"
    }
   ],
   "source": [
    "Lx = L_x(1/2)\n",
    "Lx"
   ]
  },
  {
   "cell_type": "code",
   "execution_count": 13,
   "id": "a082d39f",
   "metadata": {},
   "outputs": [
    {
     "data": {
      "text/latex": [
       "$\\displaystyle \\left[\\begin{matrix}1.0 \\cos{\\left(0.5 \\alpha \\right)} & - 1.0 i \\sin{\\left(0.5 \\alpha \\right)}\\\\- 1.0 i \\sin{\\left(0.5 \\alpha \\right)} & 1.0 \\cos{\\left(0.5 \\alpha \\right)}\\end{matrix}\\right]$"
      ],
      "text/plain": [
       "Matrix([\n",
       "[   1.0*cos(0.5*\\alpha), -1.0*I*sin(0.5*\\alpha)],\n",
       "[-1.0*I*sin(0.5*\\alpha),    1.0*cos(0.5*\\alpha)]])"
      ]
     },
     "execution_count": 13,
     "metadata": {},
     "output_type": "execute_result"
    }
   ],
   "source": [
    "Lx = sp.Matrix(L_x(1/2).to_matrix())\n",
    "alpha = sp.symbols(r'\\alpha', real=True)\n",
    "rot_x = sp.exp(-sp.I*alpha*Lx).simplify()\n",
    "rot_x"
   ]
  },
  {
   "cell_type": "markdown",
   "id": "93953073",
   "metadata": {},
   "source": [
    "We can also try representation spaces with higher dimension, e.g. $l=3/2$, i.e. 4 dimensions."
   ]
  },
  {
   "cell_type": "code",
   "execution_count": 15,
   "id": "e686546a",
   "metadata": {},
   "outputs": [
    {
     "data": {
      "text/plain": [
       "[[0.       +0.j 0.8660254+0.j 0.       +0.j 0.       +0.j]\n",
       " [0.8660254+0.j 0.       +0.j 1.       +0.j 0.       +0.j]\n",
       " [0.       +0.j 1.       +0.j 0.       +0.j 0.8660254+0.j]\n",
       " [0.       +0.j 0.       +0.j 0.8660254+0.j 0.       +0.j]]"
      ]
     },
     "execution_count": 15,
     "metadata": {},
     "output_type": "execute_result"
    }
   ],
   "source": [
    "Lx = L_x(3/2)\n",
    "Lx"
   ]
  },
  {
   "cell_type": "code",
   "execution_count": 16,
   "id": "f2752a8f",
   "metadata": {},
   "outputs": [
    {
     "data": {
      "text/latex": [
       "$\\displaystyle \\left[\\begin{matrix}0.375 e^{0.5 i \\alpha} + 0.125 e^{1.5 i \\alpha} + 0.125 e^{- 1.5 i \\alpha} + 0.375 e^{- 0.500000000000001 i \\alpha} & - 0.21650635094611 e^{0.5 i \\alpha} - 0.21650635094611 e^{1.5 i \\alpha} + 0.21650635094611 e^{- 1.5 i \\alpha} + 0.21650635094611 e^{- 0.500000000000001 i \\alpha} & - 0.21650635094611 e^{0.5 i \\alpha} + 0.21650635094611 e^{1.5 i \\alpha} + 0.21650635094611 e^{- 1.5 i \\alpha} - 0.21650635094611 e^{- 0.500000000000001 i \\alpha} & 0.375 e^{0.5 i \\alpha} - 0.125 e^{1.5 i \\alpha} + 0.125 e^{- 1.5 i \\alpha} - 0.375 e^{- 0.500000000000001 i \\alpha}\\\\- 0.21650635094611 e^{0.5 i \\alpha} - 0.21650635094611 e^{1.5 i \\alpha} + 0.21650635094611 e^{- 1.5 i \\alpha} + 0.21650635094611 e^{- 0.500000000000001 i \\alpha} & 0.125 e^{0.5 i \\alpha} + 0.375 e^{1.5 i \\alpha} + 0.375 e^{- 1.5 i \\alpha} + 0.125 e^{- 0.500000000000001 i \\alpha} & 0.125 e^{0.5 i \\alpha} - 0.375 e^{1.5 i \\alpha} + 0.375 e^{- 1.5 i \\alpha} - 0.125 e^{- 0.500000000000001 i \\alpha} & - 0.21650635094611 e^{0.5 i \\alpha} + 0.21650635094611 e^{1.5 i \\alpha} + 0.21650635094611 e^{- 1.5 i \\alpha} - 0.21650635094611 e^{- 0.500000000000001 i \\alpha}\\\\- 0.21650635094611 e^{0.5 i \\alpha} + 0.21650635094611 e^{1.5 i \\alpha} + 0.21650635094611 e^{- 1.5 i \\alpha} - 0.21650635094611 e^{- 0.500000000000001 i \\alpha} & 0.125 e^{0.5 i \\alpha} - 0.375 e^{1.5 i \\alpha} + 0.375 e^{- 1.5 i \\alpha} - 0.125 e^{- 0.500000000000001 i \\alpha} & 0.125 e^{0.5 i \\alpha} + 0.375 e^{1.5 i \\alpha} + 0.375 e^{- 1.5 i \\alpha} + 0.125 e^{- 0.500000000000001 i \\alpha} & - 0.21650635094611 e^{0.5 i \\alpha} - 0.21650635094611 e^{1.5 i \\alpha} + 0.21650635094611 e^{- 1.5 i \\alpha} + 0.21650635094611 e^{- 0.500000000000001 i \\alpha}\\\\0.375 e^{0.5 i \\alpha} - 0.125 e^{1.5 i \\alpha} + 0.125 e^{- 1.5 i \\alpha} - 0.375 e^{- 0.500000000000001 i \\alpha} & - 0.21650635094611 e^{0.5 i \\alpha} + 0.21650635094611 e^{1.5 i \\alpha} + 0.21650635094611 e^{- 1.5 i \\alpha} - 0.21650635094611 e^{- 0.500000000000001 i \\alpha} & - 0.21650635094611 e^{0.5 i \\alpha} - 0.21650635094611 e^{1.5 i \\alpha} + 0.21650635094611 e^{- 1.5 i \\alpha} + 0.21650635094611 e^{- 0.500000000000001 i \\alpha} & 0.375 e^{0.5 i \\alpha} + 0.125 e^{1.5 i \\alpha} + 0.125 e^{- 1.5 i \\alpha} + 0.375 e^{- 0.500000000000001 i \\alpha}\\end{matrix}\\right]$"
      ],
      "text/plain": [
       "Matrix([\n",
       "[                                             0.375*exp(0.5*I*\\alpha) + 0.125*exp(1.5*I*\\alpha) + 0.125*exp(-1.5*I*\\alpha) + 0.375*exp(-0.500000000000001*I*\\alpha), -0.21650635094611*exp(0.5*I*\\alpha) - 0.21650635094611*exp(1.5*I*\\alpha) + 0.21650635094611*exp(-1.5*I*\\alpha) + 0.21650635094611*exp(-0.500000000000001*I*\\alpha), -0.21650635094611*exp(0.5*I*\\alpha) + 0.21650635094611*exp(1.5*I*\\alpha) + 0.21650635094611*exp(-1.5*I*\\alpha) - 0.21650635094611*exp(-0.500000000000001*I*\\alpha),                                              0.375*exp(0.5*I*\\alpha) - 0.125*exp(1.5*I*\\alpha) + 0.125*exp(-1.5*I*\\alpha) - 0.375*exp(-0.500000000000001*I*\\alpha)],\n",
       "[-0.21650635094611*exp(0.5*I*\\alpha) - 0.21650635094611*exp(1.5*I*\\alpha) + 0.21650635094611*exp(-1.5*I*\\alpha) + 0.21650635094611*exp(-0.500000000000001*I*\\alpha),                                              0.125*exp(0.5*I*\\alpha) + 0.375*exp(1.5*I*\\alpha) + 0.375*exp(-1.5*I*\\alpha) + 0.125*exp(-0.500000000000001*I*\\alpha),                                              0.125*exp(0.5*I*\\alpha) - 0.375*exp(1.5*I*\\alpha) + 0.375*exp(-1.5*I*\\alpha) - 0.125*exp(-0.500000000000001*I*\\alpha), -0.21650635094611*exp(0.5*I*\\alpha) + 0.21650635094611*exp(1.5*I*\\alpha) + 0.21650635094611*exp(-1.5*I*\\alpha) - 0.21650635094611*exp(-0.500000000000001*I*\\alpha)],\n",
       "[-0.21650635094611*exp(0.5*I*\\alpha) + 0.21650635094611*exp(1.5*I*\\alpha) + 0.21650635094611*exp(-1.5*I*\\alpha) - 0.21650635094611*exp(-0.500000000000001*I*\\alpha),                                              0.125*exp(0.5*I*\\alpha) - 0.375*exp(1.5*I*\\alpha) + 0.375*exp(-1.5*I*\\alpha) - 0.125*exp(-0.500000000000001*I*\\alpha),                                              0.125*exp(0.5*I*\\alpha) + 0.375*exp(1.5*I*\\alpha) + 0.375*exp(-1.5*I*\\alpha) + 0.125*exp(-0.500000000000001*I*\\alpha), -0.21650635094611*exp(0.5*I*\\alpha) - 0.21650635094611*exp(1.5*I*\\alpha) + 0.21650635094611*exp(-1.5*I*\\alpha) + 0.21650635094611*exp(-0.500000000000001*I*\\alpha)],\n",
       "[                                             0.375*exp(0.5*I*\\alpha) - 0.125*exp(1.5*I*\\alpha) + 0.125*exp(-1.5*I*\\alpha) - 0.375*exp(-0.500000000000001*I*\\alpha), -0.21650635094611*exp(0.5*I*\\alpha) + 0.21650635094611*exp(1.5*I*\\alpha) + 0.21650635094611*exp(-1.5*I*\\alpha) - 0.21650635094611*exp(-0.500000000000001*I*\\alpha), -0.21650635094611*exp(0.5*I*\\alpha) - 0.21650635094611*exp(1.5*I*\\alpha) + 0.21650635094611*exp(-1.5*I*\\alpha) + 0.21650635094611*exp(-0.500000000000001*I*\\alpha),                                              0.375*exp(0.5*I*\\alpha) + 0.125*exp(1.5*I*\\alpha) + 0.125*exp(-1.5*I*\\alpha) + 0.375*exp(-0.500000000000001*I*\\alpha)]])"
      ]
     },
     "execution_count": 16,
     "metadata": {},
     "output_type": "execute_result"
    }
   ],
   "source": [
    "Lx = sp.Matrix(L_x(3/2).to_matrix())\n",
    "alpha = sp.symbols(r'\\alpha', real=True)\n",
    "rot_x = sp.exp(-sp.I*alpha*Lx).simplify()\n",
    "rot_x"
   ]
  }
 ],
 "metadata": {
  "kernelspec": {
   "display_name": "tensorflow",
   "language": "python",
   "name": "python3"
  },
  "language_info": {
   "codemirror_mode": {
    "name": "ipython",
    "version": 3
   },
   "file_extension": ".py",
   "mimetype": "text/x-python",
   "name": "python",
   "nbconvert_exporter": "python",
   "pygments_lexer": "ipython3",
   "version": "3.9.13"
  }
 },
 "nbformat": 4,
 "nbformat_minor": 5
}
