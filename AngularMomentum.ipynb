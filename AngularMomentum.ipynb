{
 "cells": [
  {
   "cell_type": "markdown",
   "id": "a76e02de-9a76-491b-871a-9322dbce132e",
   "metadata": {},
   "source": [
    "# Goal: Derive Expression of SU(2) Group"
   ]
  },
  {
   "cell_type": "code",
   "execution_count": 1,
   "id": "b2ba77b9-eaa2-4aae-855a-835a52951a61",
   "metadata": {},
   "outputs": [],
   "source": [
    "import sympy as sp\n",
    "from AngularMomentum import *"
   ]
  },
  {
   "cell_type": "markdown",
   "id": "4fe9f7ec-6470-4eb5-ba32-7ff8682f5132",
   "metadata": {},
   "source": [
    "## First: $L_x$"
   ]
  },
  {
   "cell_type": "code",
   "execution_count": 28,
   "id": "26193161-ae35-459d-b12a-f89bd44253bf",
   "metadata": {},
   "outputs": [
    {
     "data": {
      "text/latex": [
       "$\\displaystyle \\left[\\begin{matrix}\\frac{\\cos{\\left(\\alpha \\right)}}{2} + \\frac{1}{2} & - \\frac{\\sqrt{2} i \\sin{\\left(\\alpha \\right)}}{2} & \\frac{\\cos{\\left(\\alpha \\right)}}{2} - \\frac{1}{2}\\\\- \\frac{\\sqrt{2} i \\sin{\\left(\\alpha \\right)}}{2} & \\cos{\\left(\\alpha \\right)} & - \\frac{\\sqrt{2} i \\sin{\\left(\\alpha \\right)}}{2}\\\\\\frac{\\cos{\\left(\\alpha \\right)}}{2} - \\frac{1}{2} & - \\frac{\\sqrt{2} i \\sin{\\left(\\alpha \\right)}}{2} & \\frac{\\cos{\\left(\\alpha \\right)}}{2} + \\frac{1}{2}\\end{matrix}\\right]$"
      ],
      "text/plain": [
       "Matrix([\n",
       "[     cos(\\alpha)/2 + 1/2, -sqrt(2)*I*sin(\\alpha)/2,      cos(\\alpha)/2 - 1/2],\n",
       "[-sqrt(2)*I*sin(\\alpha)/2,              cos(\\alpha), -sqrt(2)*I*sin(\\alpha)/2],\n",
       "[     cos(\\alpha)/2 - 1/2, -sqrt(2)*I*sin(\\alpha)/2,      cos(\\alpha)/2 + 1/2]])"
      ]
     },
     "execution_count": 28,
     "metadata": {},
     "output_type": "execute_result"
    }
   ],
   "source": [
    "# Lx = 1/sp.sqrt(2)*sp.Matrix([[0, 1, 0], [1, 0, 1], [0, 1, 0]])\n",
    "Lx = L_x(3)\n",
    "alpha = sp.symbols(r'\\alpha', real=True)\n",
    "rot_x = sp.exp(-sp.I*alpha*Lx).simplify()\n",
    "rot_x_t = rot.H\n",
    "rot_x"
   ]
  },
  {
   "cell_type": "markdown",
   "id": "c77e7a6f-0028-4a8e-a046-160fd534a4b1",
   "metadata": {},
   "source": [
    "## Second: $L_y$"
   ]
  },
  {
   "cell_type": "code",
   "execution_count": 29,
   "id": "10718b25-9907-46ae-a7b2-b85afcdf79f1",
   "metadata": {},
   "outputs": [
    {
     "data": {
      "text/latex": [
       "$\\displaystyle \\left[\\begin{matrix}\\frac{\\cos{\\left(\\beta \\right)}}{2} + \\frac{1}{2} & - \\frac{\\sqrt{2} \\sin{\\left(\\beta \\right)}}{2} & \\frac{1}{2} - \\frac{\\cos{\\left(\\beta \\right)}}{2}\\\\\\frac{\\sqrt{2} \\sin{\\left(\\beta \\right)}}{2} & \\cos{\\left(\\beta \\right)} & - \\frac{\\sqrt{2} \\sin{\\left(\\beta \\right)}}{2}\\\\\\frac{1}{2} - \\frac{\\cos{\\left(\\beta \\right)}}{2} & \\frac{\\sqrt{2} \\sin{\\left(\\beta \\right)}}{2} & \\frac{\\cos{\\left(\\beta \\right)}}{2} + \\frac{1}{2}\\end{matrix}\\right]$"
      ],
      "text/plain": [
       "Matrix([\n",
       "[  cos(\\beta)/2 + 1/2, -sqrt(2)*sin(\\beta)/2,    1/2 - cos(\\beta)/2],\n",
       "[sqrt(2)*sin(\\beta)/2,            cos(\\beta), -sqrt(2)*sin(\\beta)/2],\n",
       "[  1/2 - cos(\\beta)/2,  sqrt(2)*sin(\\beta)/2,    cos(\\beta)/2 + 1/2]])"
      ]
     },
     "execution_count": 29,
     "metadata": {},
     "output_type": "execute_result"
    }
   ],
   "source": [
    "Ly = 1/(sp.sqrt(2)*sp.I)*sp.Matrix([[0, 1, 0], [-1, 0, 1], [0, -1, 0]])\n",
    "beta = sp.symbols(r'\\beta', real=True)\n",
    "rot_y = sp.exp(-sp.I*beta*Ly).simplify()\n",
    "rot_y_t = rot_y.H"
   ]
  },
  {
   "cell_type": "markdown",
   "id": "5ff8d584-8b10-4b9e-9b3f-d75c064a2361",
   "metadata": {},
   "source": [
    "# Third: $L_z$"
   ]
  },
  {
   "cell_type": "code",
   "execution_count": 32,
   "id": "5f6038e1-a455-4aa9-88bf-a877ce89a63b",
   "metadata": {},
   "outputs": [
    {
     "data": {
      "text/latex": [
       "$\\displaystyle \\left[\\begin{matrix}e^{- i \\gamma} & 0 & 0\\\\0 & 1 & 0\\\\0 & 0 & e^{i \\gamma}\\end{matrix}\\right]$"
      ],
      "text/plain": [
       "Matrix([\n",
       "[exp(-I*\\gamma), 0,             0],\n",
       "[             0, 1,             0],\n",
       "[             0, 0, exp(I*\\gamma)]])"
      ]
     },
     "execution_count": 32,
     "metadata": {},
     "output_type": "execute_result"
    }
   ],
   "source": [
    "Lz = sp.Matrix([[1, 0, 0], [0, 0, 0], [0, 0, -1]])\n",
    "gamma = sp.symbols(r'\\gamma', real=True)\n",
    "rot_z = sp.exp(-sp.I*gamma*Lz).simplify()\n",
    "rot_z_t = rot_z.H\n",
    "rot_z"
   ]
  },
  {
   "cell_type": "code",
   "execution_count": 37,
   "id": "8dfaa3d8-d7e6-4336-b2f7-cd999f3fbe47",
   "metadata": {},
   "outputs": [
    {
     "data": {
      "text/latex": [
       "$\\displaystyle \\left[\\begin{matrix}0 & -1 & 0\\\\1 & 0 & 0\\\\0 & 0 & 0\\end{matrix}\\right]$"
      ],
      "text/plain": [
       "Matrix([\n",
       "[0, -1, 0],\n",
       "[1,  0, 0],\n",
       "[0,  0, 0]])"
      ]
     },
     "execution_count": 37,
     "metadata": {},
     "output_type": "execute_result"
    }
   ],
   "source": []
  },
  {
   "cell_type": "code",
   "execution_count": 66,
   "id": "b9f2bfd1-dc24-4a65-ad56-014aba36e97d",
   "metadata": {},
   "outputs": [
    {
     "data": {
      "text/plain": [
       "[<matplotlib.lines.Line2D at 0x14a743cd0>]"
      ]
     },
     "execution_count": 66,
     "metadata": {},
     "output_type": "execute_result"
    },
    {
     "data": {
      "image/png": "[encoded data removed]",
      "text/plain": [
       "<Figure size 640x480 with 1 Axes>"
      ]
     },
     "metadata": {},
     "output_type": "display_data"
    }
   ],
   "source": [
    "\n",
    "\n",
    "    \n",
    "    "
   ]
  },
  {
   "cell_type": "code",
   "execution_count": null,
   "id": "03a4192e-1c89-4edd-9dfe-6c66c8908eb5",
   "metadata": {},
   "outputs": [],
   "source": []
  }
 ],
 "metadata": {
  "kernelspec": {
   "display_name": "Python 3 (ipykernel)",
   "language": "python",
   "name": "python3"
  },
  "language_info": {
   "codemirror_mode": {
    "name": "ipython",
    "version": 3
   },
   "file_extension": ".py",
   "mimetype": "text/x-python",
   "name": "python",
   "nbconvert_exporter": "python",
   "pygments_lexer": "ipython3",
   "version": "3.9.13"
  }
 },
 "nbformat": 4,
 "nbformat_minor": 5
}
